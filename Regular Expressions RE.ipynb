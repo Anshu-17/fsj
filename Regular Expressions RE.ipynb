{
 "cells": [
  {
   "cell_type": "code",
   "execution_count": 1,
   "metadata": {},
   "outputs": [],
   "source": [
    "import re"
   ]
  },
  {
   "cell_type": "markdown",
   "metadata": {},
   "source": [
    "# Metacharacters"
   ]
  },
  {
   "cell_type": "code",
   "execution_count": 2,
   "metadata": {},
   "outputs": [
    {
     "name": "stdout",
     "output_type": "stream",
     "text": [
      "['h', 'e', 'a', 'i', 'i', 'a', 'i']\n"
     ]
    }
   ],
   "source": [
    "# []--> A set of characters \t\"[a-m]\"\n",
    "txt = \"the rain in spain\"\n",
    "x=re.findall(\"[a-m]\",txt)\n",
    "print(x)"
   ]
  },
  {
   "cell_type": "code",
   "execution_count": 3,
   "metadata": {},
   "outputs": [
    {
     "name": "stdout",
     "output_type": "stream",
     "text": [
      "['5', '0', '0']\n"
     ]
    }
   ],
   "source": [
    "# \\-->Signals a special sequence (can also be used to escape special characters) \"\\d\"\n",
    "txt = \"I have 500 dollars\"\n",
    "x = re.findall(\"\\d\",txt)\n",
    "print(x)"
   ]
  },
  {
   "cell_type": "code",
   "execution_count": 4,
   "metadata": {},
   "outputs": [
    {
     "name": "stdout",
     "output_type": "stream",
     "text": [
      "['hello', 'heelo', 'hexoo']\n"
     ]
    }
   ],
   "source": [
    "#  .\tAny character (except newline character)\t\"he..o\"\n",
    "txt = \"hello world heelo hexoo\"\n",
    "x = re.findall(\"he..o\",txt)\n",
    "print(x)"
   ]
  },
  {
   "cell_type": "code",
   "execution_count": 5,
   "metadata": {},
   "outputs": [
    {
     "name": "stdout",
     "output_type": "stream",
     "text": [
      "Yes, the string starts with 'hello'\n"
     ]
    }
   ],
   "source": [
    "# ^ \tStarts with \t\"^hello\"\n",
    "txt = \"hello I am ipy hello\"\n",
    "\n",
    "x = re.findall(\"^hello\", txt)\n",
    "if x:\n",
    "    print(\"Yes, the string starts with 'hello'\")\n",
    "else:\n",
    "    print(\"No match\")\n"
   ]
  },
  {
   "cell_type": "code",
   "execution_count": 6,
   "metadata": {},
   "outputs": [
    {
     "name": "stdout",
     "output_type": "stream",
     "text": [
      "yes the string ends with world\n"
     ]
    }
   ],
   "source": [
    "# $ \tEnds with\t\"world$\"\n",
    "txt =\"hello welcome ipy world\"\n",
    "x = re.findall(\"world$\",txt)\n",
    "if x:\n",
    "    print(\"yes the string ends with world\")\n",
    "else:\n",
    "    print(\"no match\")"
   ]
  },
  {
   "cell_type": "code",
   "execution_count": 7,
   "metadata": {},
   "outputs": [
    {
     "name": "stdout",
     "output_type": "stream",
     "text": [
      "['aix', 'aixx', 'ai', 'ai']\n",
      "yes.there is at least one match\n"
     ]
    }
   ],
   "source": [
    "# *\tZero or more occurrences\t\"aix*\"\n",
    "txt =\"The raixn in Spaixxn falls mainly in the plain!\"\n",
    "#Check if the string contains \"ai\" followed by 0 or more \"x\" characters:\n",
    "x = re.findall(\"aix*\",txt)\n",
    "print(x)\n",
    "if x:\n",
    "    print(\"yes.there is at least one match\")\n",
    "else:\n",
    "    print(\"no match\")"
   ]
  },
  {
   "cell_type": "code",
   "execution_count": 8,
   "metadata": {},
   "outputs": [
    {
     "name": "stdout",
     "output_type": "stream",
     "text": [
      "['aix', 'aixx', 'aixxxxxxx']\n",
      "yes. there is at least one match\n"
     ]
    }
   ],
   "source": [
    "# + \tOne or more occurrences \t\"aix+\"\n",
    "txt = \"The raixn in Spaixxn falls mainly in the plain! aixxxxxxx\"\n",
    "#Check if the string contains \"ai\" followed by 1 or more \"x\" characters:\n",
    "x= re.findall(\"aix+\",txt)\n",
    "print(x)\n",
    "if x:\n",
    "    print(\"yes. there is at least one match\")\n",
    "else:\n",
    "    print(\"no match\")"
   ]
  },
  {
   "cell_type": "code",
   "execution_count": 9,
   "metadata": {},
   "outputs": [
    {
     "name": "stdout",
     "output_type": "stream",
     "text": [
      "['all', 'all']\n",
      "Yes, there is at least one match!\n"
     ]
    }
   ],
   "source": [
    "# {}\tExactly the specified number of occurrences\t\"al{2}\"\n",
    "txt = \"The rain in Spain falls mainly in the plallllin!\"\n",
    "#Check if the string contains \"a\" followed by exactly two \"l\" characters:\n",
    "x = re.findall(\"al{2}\", txt)\n",
    "print(x)\n",
    "if x:\n",
    "    print(\"Yes, there is at least one match!\")\n",
    "else:\n",
    "    print(\"No match\")\n"
   ]
  },
  {
   "cell_type": "code",
   "execution_count": 10,
   "metadata": {},
   "outputs": [
    {
     "name": "stdout",
     "output_type": "stream",
     "text": [
      "['falls', 'stays']\n",
      "Yes, there is at least one match!\n"
     ]
    }
   ],
   "source": [
    "# |\tEither or\t\"falls|stays\"\n",
    "txt = \"The rain in Spain falls mainly in the plain! stays\"\n",
    "#Check if the string contains either \"falls\" or \"stays\":\n",
    "x = re.findall(\"falls|stays\", txt)\n",
    "print(x)\n",
    "if x:\n",
    "    print(\"Yes, there is at least one match!\")\n",
    "else:\n",
    "    print(\"No match\")\n"
   ]
  },
  {
   "cell_type": "markdown",
   "metadata": {},
   "source": [
    "# special sequence "
   ]
  },
  {
   "cell_type": "code",
   "execution_count": 11,
   "metadata": {},
   "outputs": [
    {
     "name": "stdout",
     "output_type": "stream",
     "text": [
      "['in']\n",
      "Yes, there is a match!\n"
     ]
    }
   ],
   "source": [
    "# \\A\tReturns a match if the specified characters are at the beginning of the string\t\"\\AThe\"\n",
    "txt = \"in The rain in Spain\"\n",
    "#Check if the string starts with \"The\":\n",
    "x = re.findall(\"\\Ain\", txt)\n",
    "print(x)\n",
    "if x:\n",
    "    print(\"Yes, there is a match!\")\n",
    "else:\n",
    "    print(\"No match\")\n"
   ]
  },
  {
   "cell_type": "code",
   "execution_count": 12,
   "metadata": {},
   "outputs": [
    {
     "name": "stdout",
     "output_type": "stream",
     "text": [
      "['ain']\n",
      "Yes, there is at least one match!\n",
      "----------------------------------------\n",
      "['ain', 'ain']\n",
      "Yes, there is at least one match!\n"
     ]
    }
   ],
   "source": [
    "#Returns a match where the specified characters are at the beginning or at the end of a word\n",
    "#(the \"r\" in the beginning is making sure that the string is being treated as a \"raw string\")\tr\"\\bain\" r\"ain\\b\"\n",
    "txt = \"ainnThe rain in Spain\"\n",
    "#Check if \"ain\" is present at the beginning of a WORD:\n",
    "x = re.findall(r\"\\bain\", txt)\n",
    "print(x)\n",
    "if x:\n",
    "    print(\"Yes, there is at least one match!\")\n",
    "else:\n",
    "    print(\"No match\")\n",
    "print(\"----------------------------------------\")\n",
    "y = re.findall(r\"ain\\b\", txt)\n",
    "print(y)\n",
    "if y:\n",
    "    print(\"Yes, there is at least one match!\")\n",
    "else:\n",
    "    print(\"No match\")"
   ]
  },
  {
   "cell_type": "code",
   "execution_count": 13,
   "metadata": {},
   "outputs": [
    {
     "name": "stdout",
     "output_type": "stream",
     "text": [
      "['ain', 'ain']\n",
      "Yes, there is at least one match!\n",
      "----------------------------------------\n",
      "['ain']\n",
      "Yes, there is at least one match!\n"
     ]
    }
   ],
   "source": [
    "#\\B\tReturns a match where the specified characters are present, but NOT at the beginning (or at the end) of a word\n",
    "#(the \"r\" in the beginning is making sure that the string is being treated as a \"raw string\")\tr\"\\Bain\" r\"ain\\B\"txt = \"ainnThe rain in Spain\"\n",
    "#Check if \"ain\" is present at the beginning of a WORD:\n",
    "txt = \"ainnThe rain in Spain\"\n",
    "x = re.findall(r\"\\Bain\", txt)\n",
    "print(x)\n",
    "if x:\n",
    "    print(\"Yes, there is at least one match!\")\n",
    "else:\n",
    "    print(\"No match\")\n",
    "print(\"----------------------------------------\")\n",
    "y = re.findall(r\"ain\\B\", txt)\n",
    "print(y)\n",
    "if y:\n",
    "    print(\"Yes, there is at least one match!\")\n",
    "else:\n",
    "    print(\"No match\")"
   ]
  },
  {
   "cell_type": "code",
   "execution_count": 14,
   "metadata": {},
   "outputs": [
    {
     "name": "stdout",
     "output_type": "stream",
     "text": [
      "['1', '3', '3', '3', '4', '3', '4', '4', '3', '4', '5', '9', '0']\n"
     ]
    }
   ],
   "source": [
    "#\\d \tReturns a match where the string contains digits (numbers from 0-9) \t\"\\d\"\n",
    "txt = \"1ainnThe 33rain in343 S44pai3459n0\"\n",
    "x = re.findall(\"\\d\",txt)\n",
    "print(x)"
   ]
  },
  {
   "cell_type": "code",
   "execution_count": 15,
   "metadata": {},
   "outputs": [
    {
     "name": "stdout",
     "output_type": "stream",
     "text": [
      "['a', 'i', 'n', 'n', 'T', 'h', 'e', ' ', 'r', 'a', 'i', 'n', ' ', 'i', 'n', ' ', 'S', 'p', 'a', 'i', 'n']\n"
     ]
    }
   ],
   "source": [
    "# \\D\tReturns a match where the string DOES NOT contain digits\t\"\\D\"\n",
    "txt = \"1ainnThe 33rain in343 S44pai3459n0\"\n",
    "x = re.findall(\"\\D\",txt)\n",
    "print(x)"
   ]
  },
  {
   "cell_type": "code",
   "execution_count": 16,
   "metadata": {},
   "outputs": [
    {
     "name": "stdout",
     "output_type": "stream",
     "text": [
      "[' ', ' ', ' ', ' ', ' ', ' ', ' ', ' ', ' ', ' ', ' ', ' ', ' ', ' ', ' ', ' ']\n"
     ]
    }
   ],
   "source": [
    "# \\s\tReturns a match where the string contains a white space character\t\"\\s\n",
    "txt = \" the rain in      the  spain is   high \"\n",
    "x = re.findall(\"\\s\",txt)\n",
    "print(x)"
   ]
  },
  {
   "cell_type": "code",
   "execution_count": 17,
   "metadata": {},
   "outputs": [
    {
     "name": "stdout",
     "output_type": "stream",
     "text": [
      "['t', 'h', 'e', 'r', 'a', 'i', 'n', 'i', 'n', 't', 'h', 'e', 's', 'p', 'a', 'i', 'n', 'i', 's', 'h', 'i', 'g', 'h']\n"
     ]
    }
   ],
   "source": [
    "# \\S\tReturns a match where the string DOES NOT contain a white space character\t\"\\S\"\n",
    "txt = \" the rain in      the  spain is   high \"\n",
    "x = re.findall(\"\\S\",txt)\n",
    "print(x)"
   ]
  },
  {
   "cell_type": "code",
   "execution_count": 18,
   "metadata": {},
   "outputs": [
    {
     "name": "stdout",
     "output_type": "stream",
     "text": [
      "['1', 'a', 'i', 'n', 'n', 'T', 'h', 'e', '3', '3', 'r', '_', 'a', 'i', 'n', 'i', 'n', '3', '4', '3', 'S', '4', '_', '4', 'p', 'a', 'i', '3', '4', '5', '9', 'n', '0']\n"
     ]
    }
   ],
   "source": [
    "# \\w\tReturns a match where the string contains any word characters (characters from a to Z, digits from 0-9, and the underscore _ character)\t\"\\w\"\n",
    "txt = \"1ainnThe 33r_ain in343 S4_4pai3459n0#\"\n",
    "x = re.findall(\"\\w\",txt)\n",
    "print(x)"
   ]
  },
  {
   "cell_type": "code",
   "execution_count": 19,
   "metadata": {},
   "outputs": [
    {
     "name": "stdout",
     "output_type": "stream",
     "text": [
      "['?', ' ', \"'\", \"'\", '.', ' ', '+', '-', '*', '*', '*', '*', '/', '/', ' ', ' ', '#']\n"
     ]
    }
   ],
   "source": [
    "#\\W\tReturns a match where the string DOES NOT contain any word characters\t\"\\W\"\n",
    "txt = \"1ai?nnThe 3''.3r_ain +-****// in343 S4_4pai39n0#\"\n",
    "x = re.findall(\"\\W\",txt)\n",
    "print(x)"
   ]
  },
  {
   "cell_type": "code",
   "execution_count": 20,
   "metadata": {},
   "outputs": [
    {
     "name": "stdout",
     "output_type": "stream",
     "text": [
      "['pine']\n"
     ]
    }
   ],
   "source": [
    "# Z\tReturns a match if the specified characters are at the end of the string\t\"Spain\\Z\"\n",
    "txt = \"1ai?nnThe 3''.3r_ain +-****// in343 S4_4pai39n0#pine\"\n",
    "x = re.findall(\"pine\\Z\",txt)\n",
    "print(x)"
   ]
  },
  {
   "cell_type": "markdown",
   "metadata": {},
   "source": [
    "# SET"
   ]
  },
  {
   "cell_type": "code",
   "execution_count": 21,
   "metadata": {},
   "outputs": [
    {
     "name": "stdout",
     "output_type": "stream",
     "text": [
      "['r', 'a', 'n', 'n', 'a', 'n']\n"
     ]
    }
   ],
   "source": [
    "  # [arn]\tReturns a match where one of the specified characters (a, r, or n) are present\n",
    "txt = \" the rain in      the  spain is   high \"\n",
    "pat ='[arn]'\n",
    "x = re.findall(pat,txt)\n",
    "print(x)"
   ]
  },
  {
   "cell_type": "code",
   "execution_count": 22,
   "metadata": {},
   "outputs": [
    {
     "name": "stdout",
     "output_type": "stream",
     "text": [
      "['h', 'e', 'a', 'i', 'n', 'i', 'n', 'h', 'e', 'a', 'i', 'n', 'i', 'h', 'i', 'g', 'h']\n"
     ]
    }
   ],
   "source": [
    "# [a-n]\tReturns a match for any lower case character, alphabetically between a and n\n",
    "txt = \" the rain in      the  spain is   high \"\n",
    "pat ='[a-n]'\n",
    "x = re.findall(pat,txt)\n",
    "print(x)"
   ]
  },
  {
   "cell_type": "code",
   "execution_count": 23,
   "metadata": {},
   "outputs": [
    {
     "name": "stdout",
     "output_type": "stream",
     "text": [
      "[' ', 't', 'h', 'e', ' ', 'i', ' ', 'i', ' ', 't', 'h', 'e', ' ', ' ', 's', 'p', 'i', ' ', 'i', 's', ' ', ' ', ' ', 'h', 'i', 'g', 'h', ' ']\n"
     ]
    }
   ],
   "source": [
    "# [^arn]\tReturns a match for any character EXCEPT a, r, and n\n",
    "txt = \" the rain in the  spain is   high \"\n",
    "pat ='[^arn]'\n",
    "x = re.findall(pat,txt)\n",
    "print(x)"
   ]
  },
  {
   "cell_type": "code",
   "execution_count": 24,
   "metadata": {},
   "outputs": [
    {
     "name": "stdout",
     "output_type": "stream",
     "text": [
      "['0', '2', '1', '3', '1']\n"
     ]
    }
   ],
   "source": [
    "# [0123]\tReturns a match where any of the specified digits (0, 1, 2, or 3) are present\n",
    "txt = \" 0the rain2 in1 the  spain3 is   high1 \"\n",
    "pat ='[0123]'\n",
    "x = re.findall(pat,txt)\n",
    "print(x)"
   ]
  },
  {
   "cell_type": "code",
   "execution_count": 25,
   "metadata": {},
   "outputs": [
    {
     "name": "stdout",
     "output_type": "stream",
     "text": [
      "['0', '2', '1', '3', '1']\n"
     ]
    }
   ],
   "source": [
    "# [0-9]\tReturns a match for any digit between 0 and 9\n",
    "txt = \" 0the rain2 in1 the  spain3 is   high1 \"\n",
    "pat ='[0-9]'\n",
    "x = re.findall(pat,txt)\n",
    "print(x)"
   ]
  },
  {
   "cell_type": "code",
   "execution_count": 26,
   "metadata": {},
   "outputs": [
    {
     "name": "stdout",
     "output_type": "stream",
     "text": [
      "['69', '22', '35', '25', '99']\n"
     ]
    }
   ],
   "source": [
    "# [0-5][0-9]\tReturns a match for any two-digit numbers from 00 and 59\n",
    "txt = \" 0the 69rain22 in1 35the  25spain3 is   high99 \"\n",
    "pat ='[0-9][0-9]'\n",
    "x = re.findall(pat,txt)\n",
    "print(x)"
   ]
  },
  {
   "cell_type": "code",
   "execution_count": 27,
   "metadata": {},
   "outputs": [
    {
     "name": "stdout",
     "output_type": "stream",
     "text": [
      "['t', 'h', 'e', 'R', 'a', 'i', 'n', 'i', 'N', 't', 'h', 'e', 's', 'P', 'A', 'i', 'n', 'i', 's', 'h', 'i', 'G', 'h']\n"
     ]
    }
   ],
   "source": [
    "# [a-zA-Z]\tReturns a match for any character alphabetically between a and z, lower case OR upper case\n",
    "txt = \" the Rain iN the  sPAin is   hiGh \"\n",
    "pat ='[a-zA-Z]'\n",
    "x = re.findall(pat,txt)\n",
    "print(x)"
   ]
  },
  {
   "cell_type": "code",
   "execution_count": 28,
   "metadata": {},
   "outputs": [
    {
     "name": "stdout",
     "output_type": "stream",
     "text": [
      "['+', '+', '+', '+', '+', '+', '+', '+', '+']\n"
     ]
    }
   ],
   "source": [
    "#+]\tIn sets, +, *, ., |, (), $,{} has no special meaning, so [+] means: return a match for any + character in the string\n",
    "txt = \"+ the- Rain+iN* /*the++**  sP+++Ain i+-*/-+s   hiGh \"\n",
    "pat ='[+]' \n",
    "'''[+]------------> Can be any special characters'''\n",
    "x = re.findall(pat,txt)\n",
    "print(x)"
   ]
  },
  {
   "cell_type": "markdown",
   "metadata": {},
   "source": [
    "# Functions"
   ]
  },
  {
   "cell_type": "code",
   "execution_count": 29,
   "metadata": {},
   "outputs": [
    {
     "name": "stdout",
     "output_type": "stream",
     "text": [
      "['ai', 'ai']\n",
      "[]\n"
     ]
    }
   ],
   "source": [
    "# The findall() function returns a list containing all matches.\n",
    "txt = \"The rain in Spain\"\n",
    "x = re.findall(\"ai\", txt)\n",
    "print(x)\n",
    "# If no matches are found, an empty list is returned:\n",
    "y = re.findall(\"portugal\",txt)\n",
    "print(y)"
   ]
  },
  {
   "cell_type": "code",
   "execution_count": 30,
   "metadata": {},
   "outputs": [
    {
     "name": "stdout",
     "output_type": "stream",
     "text": [
      "The first white-space character is located in position: 7 \n",
      "\n",
      "None\n"
     ]
    }
   ],
   "source": [
    "# The search() function searches the string for a match, and returns a Match object if there is a match.\n",
    "#If there is more than one match, only the first occurrence of the match will be returned:\n",
    "txt = \"Therain in Spain\"\n",
    "x = re.search(\"\\s\", txt)\n",
    "print(\"The first white-space character is located in position:\", x.start(),'\\n')\n",
    "# If no matches are found, the value None is returned:\n",
    "y = re.search(\"Portugal\", txt)\n",
    "print(y)"
   ]
  },
  {
   "cell_type": "code",
   "execution_count": 31,
   "metadata": {},
   "outputs": [
    {
     "name": "stdout",
     "output_type": "stream",
     "text": [
      "['The', 'rain', 'in', 'Spain']\n",
      "['The', 'rain in Spain']\n"
     ]
    }
   ],
   "source": [
    "# The split() function returns a list where the string has been split at each match:\n",
    "txt = \"The rain in Spain\"\n",
    "x = re.split(\"\\s\", txt)\n",
    "print(x)\n",
    "# Split--->maxsplit You can control the number of occurrences by specifying the maxsplit parameter:\n",
    "y = re.split(\"\\s\", txt, 1)\n",
    "print(y)"
   ]
  },
  {
   "cell_type": "code",
   "execution_count": 32,
   "metadata": {},
   "outputs": [
    {
     "name": "stdout",
     "output_type": "stream",
     "text": [
      "The9rain9in9Spain \n",
      "\n",
      "The7rain7in Spain\n"
     ]
    }
   ],
   "source": [
    "#The sub() function replaces the matches with the text of your choice\n",
    "txt = \"The rain in Spain\"\n",
    "x = re.sub(\"\\s\", \"9\", txt)\n",
    "print(x,'\\n')\n",
    "#You can control the number of replacements by specifying the count parameter\n",
    "#Replace the first 2 occurrences:\n",
    "y = re.sub(\"\\s\", \"7\", txt, 2)\n",
    "print(y)"
   ]
  },
  {
   "cell_type": "code",
   "execution_count": 33,
   "metadata": {},
   "outputs": [
    {
     "name": "stdout",
     "output_type": "stream",
     "text": [
      "<re.Match object; span=(5, 7), match='ai'>\n",
      "(12, 17)\n",
      "The rain in Spain\n",
      "Spain\n"
     ]
    }
   ],
   "source": [
    "# A Match Object is an object containing information about the search and the result.\n",
    "txt = \"The rain in Spain\"\n",
    "x = re.search(\"ai\", txt)\n",
    "print(x) #this will print an object\n",
    "\n",
    "#.span() returns a tuple containing the start-, and end positions of the match.\n",
    "#.string returns the string passed into the function\n",
    "#.group() returns the part of the string where there was a match\n",
    "\n",
    "y = re.search(r\"\\bS\\w+\", txt)#The regular expression looks for any words that starts with an upper case \"S\":\n",
    "print(y.span())\n",
    "\n",
    "z = re.search(r\"\\bS\\w+\", txt)#Print the string passed into the function:\n",
    "print(z.string)\n",
    "\n",
    "a = re.search(r\"\\bS\\w+\", txt)#TThe regular expression looks for any words that starts with an upper case \"S\":\n",
    "print(a.group())"
   ]
  },
  {
   "cell_type": "markdown",
   "metadata": {},
   "source": [
    "# Exersice"
   ]
  },
  {
   "cell_type": "code",
   "execution_count": 36,
   "metadata": {},
   "outputs": [
    {
     "name": "stdout",
     "output_type": "stream",
     "text": [
      "3\n"
     ]
    }
   ],
   "source": []
  },
  {
   "cell_type": "code",
   "execution_count": null,
   "metadata": {},
   "outputs": [],
   "source": []
  },
  {
   "cell_type": "code",
   "execution_count": null,
   "metadata": {},
   "outputs": [],
   "source": []
  },
  {
   "cell_type": "code",
   "execution_count": null,
   "metadata": {},
   "outputs": [],
   "source": []
  }
 ],
 "metadata": {
  "kernelspec": {
   "display_name": "Python 3",
   "language": "python",
   "name": "python3"
  },
  "language_info": {
   "codemirror_mode": {
    "name": "ipython",
    "version": 3
   },
   "file_extension": ".py",
   "mimetype": "text/x-python",
   "name": "python",
   "nbconvert_exporter": "python",
   "pygments_lexer": "ipython3",
   "version": "3.8.3"
  }
 },
 "nbformat": 4,
 "nbformat_minor": 4
}
